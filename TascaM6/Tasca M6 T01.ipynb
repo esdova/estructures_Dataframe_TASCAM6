{
 "cells": [
  {
   "cell_type": "code",
   "execution_count": 56,
   "id": "59c52b6b",
   "metadata": {},
   "outputs": [
    {
     "data": {
      "text/html": [
       "<div>\n",
       "<style scoped>\n",
       "    .dataframe tbody tr th:only-of-type {\n",
       "        vertical-align: middle;\n",
       "    }\n",
       "\n",
       "    .dataframe tbody tr th {\n",
       "        vertical-align: top;\n",
       "    }\n",
       "\n",
       "    .dataframe thead th {\n",
       "        text-align: right;\n",
       "    }\n",
       "</style>\n",
       "<table border=\"1\" class=\"dataframe\">\n",
       "  <thead>\n",
       "    <tr style=\"text-align: right;\">\n",
       "      <th></th>\n",
       "      <th>CRIM</th>\n",
       "      <th>ZN</th>\n",
       "      <th>INDUS</th>\n",
       "      <th>CHAS</th>\n",
       "      <th>NOX</th>\n",
       "      <th>RM</th>\n",
       "      <th>AGE</th>\n",
       "      <th>DIS</th>\n",
       "      <th>RAD</th>\n",
       "      <th>TAX</th>\n",
       "      <th>PTRATIO</th>\n",
       "      <th>B</th>\n",
       "      <th>LSTAT</th>\n",
       "      <th>MEDV</th>\n",
       "    </tr>\n",
       "  </thead>\n",
       "  <tbody>\n",
       "    <tr>\n",
       "      <th>0</th>\n",
       "      <td>0.00632</td>\n",
       "      <td>18.0</td>\n",
       "      <td>2.31</td>\n",
       "      <td>0</td>\n",
       "      <td>0.538</td>\n",
       "      <td>6.575</td>\n",
       "      <td>65.2</td>\n",
       "      <td>4.0900</td>\n",
       "      <td>1</td>\n",
       "      <td>296.0</td>\n",
       "      <td>15.3</td>\n",
       "      <td>396.90</td>\n",
       "      <td>4.98</td>\n",
       "      <td>24.0</td>\n",
       "    </tr>\n",
       "    <tr>\n",
       "      <th>1</th>\n",
       "      <td>0.02731</td>\n",
       "      <td>0.0</td>\n",
       "      <td>7.07</td>\n",
       "      <td>0</td>\n",
       "      <td>0.469</td>\n",
       "      <td>6.421</td>\n",
       "      <td>78.9</td>\n",
       "      <td>4.9671</td>\n",
       "      <td>2</td>\n",
       "      <td>242.0</td>\n",
       "      <td>17.8</td>\n",
       "      <td>396.90</td>\n",
       "      <td>9.14</td>\n",
       "      <td>21.6</td>\n",
       "    </tr>\n",
       "    <tr>\n",
       "      <th>2</th>\n",
       "      <td>0.02729</td>\n",
       "      <td>0.0</td>\n",
       "      <td>7.07</td>\n",
       "      <td>0</td>\n",
       "      <td>0.469</td>\n",
       "      <td>7.185</td>\n",
       "      <td>61.1</td>\n",
       "      <td>4.9671</td>\n",
       "      <td>2</td>\n",
       "      <td>242.0</td>\n",
       "      <td>17.8</td>\n",
       "      <td>392.83</td>\n",
       "      <td>4.03</td>\n",
       "      <td>34.7</td>\n",
       "    </tr>\n",
       "  </tbody>\n",
       "</table>\n",
       "</div>"
      ],
      "text/plain": [
       "      CRIM    ZN  INDUS  CHAS    NOX     RM   AGE     DIS  RAD    TAX  \\\n",
       "0  0.00632  18.0   2.31     0  0.538  6.575  65.2  4.0900    1  296.0   \n",
       "1  0.02731   0.0   7.07     0  0.469  6.421  78.9  4.9671    2  242.0   \n",
       "2  0.02729   0.0   7.07     0  0.469  7.185  61.1  4.9671    2  242.0   \n",
       "\n",
       "   PTRATIO       B  LSTAT  MEDV  \n",
       "0     15.3  396.90   4.98  24.0  \n",
       "1     17.8  396.90   9.14  21.6  \n",
       "2     17.8  392.83   4.03  34.7  "
      ]
     },
     "execution_count": 56,
     "metadata": {},
     "output_type": "execute_result"
    }
   ],
   "source": [
    "\n",
    "\n",
    "import pandas as pd\n",
    "import numpy as np \n",
    "import scipy as py\n",
    "\n",
    "import matplotlib.pyplot as plt    # Gràfics\n",
    "from matplotlib import style\n",
    "import seaborn as sns\n",
    "\n",
    "                                  # neccessito per processar les dades\n",
    "from sklearn import preprocessing\n",
    "from scipy.stats import pearsonr    \n",
    "from sklearn.linear_model import LinearRegression\n",
    "from sklearn.model_selection import train_test_split\n",
    "from sklearn.metrics import r2_score\n",
    "from sklearn.metrics import mean_squared_error\n",
    "import statsmodels.api as sm\n",
    "import statsmodels.formula.api as smf\n",
    "\n",
    "from math import sqrt\n",
    "from sklearn.neural_network import MLPClassifier\n",
    "from sklearn.neural_network import MLPRegressor\n",
    "\n",
    "\n",
    "\n",
    "## Configuració warnings\n",
    "\n",
    "import warnings\n",
    "warnings.filterwarnings('ignore')\n",
    "\n",
    "\n",
    "huston  = pd.read_csv(\"housing data (1).csv\",sep=',', names=[\"CRIM\", \"ZN\", \"INDUS\", \"CHAS\",\"NOX\",\"RM\",\"AGE\",\"DIS\",\"RAD\",\"TAX\",\"PTRATIO\",\"B\",\"LSTAT\",\"MEDV\"])\n",
    "                                # carrego el dataset incluint els noms de les columnes tal com diu el arxiu adjunt\n",
    "#df=huston\n",
    "huston.head(3)"
   ]
  },
  {
   "cell_type": "code",
   "execution_count": 262,
   "id": "9f5af830",
   "metadata": {},
   "outputs": [
    {
     "data": {
      "text/plain": [
       "<matplotlib.collections.PathCollection at 0x2058ae6abb0>"
      ]
     },
     "execution_count": 262,
     "metadata": {},
     "output_type": "execute_result"
    },
    {
     "data": {
      "image/png": "[encoded data removed]",
      "text/plain": [
       "<Figure size 640x480 with 1 Axes>"
      ]
     },
     "metadata": {},
     "output_type": "display_data"
    }
   ],
   "source": [
    "\n",
    "medv_x= huston['MEDV'].to_numpy()\n",
    "x=medv_x\n",
    "\n",
    "\n",
    "def f(x):                                             # utilitzo funció # funció f(x) = 0.1*x + 1.25 + 0.2*Ruido_Gaussiano \n",
    "    np.random.seed(1)                                 \n",
    "    y = 0.1*x + 1.25 + 0.2*np.random.randn(x.shape[0])\n",
    "    return y\n",
    "                                                          \n",
    "y = f(x)                                              # faig servir la funció que he generat i mostro gràfic\n",
    "                        \n",
    "plt.title('Dades MEDV');\n",
    "plt.scatter(x,y,label='data', color='green')"
   ]
  },
  {
   "cell_type": "code",
   "execution_count": 57,
   "id": "5d17e6e6",
   "metadata": {},
   "outputs": [
    {
     "data": {
      "image/png": "[encoded data removed]",
      "text/plain": [
       "<Figure size 640x480 with 1 Axes>"
      ]
     },
     "metadata": {},
     "output_type": "display_data"
    }
   ],
   "source": [
    "crim_x = huston['CRIM'].to_numpy()       #bobo\n",
    "#y = huston['TAX'].values\n",
    "\n",
    "x=crim_x\n",
    "\n",
    "\n",
    "def f(x):                                             # utilitzo funció # funció f(x) = 0.1*x + 1.25 + 0.2*Ruido_Gaussiano \n",
    "    np.random.seed(1)                                 \n",
    "    y = 0.1*x + 1.25 + 0.2*np.random.randn(x.shape[0])\n",
    "    return y\n",
    "                                                          \n",
    "y = f(x)                                              # faig servir la funció que he generat i mostro gràfic\n",
    "                        \n",
    "\n",
    "plt.scatter(x,y,label='data', color='red')\n",
    "plt.title('Dades CRIM');"
   ]
  },
  {
   "cell_type": "code",
   "execution_count": null,
   "id": "c014f429",
   "metadata": {},
   "outputs": [],
   "source": [
    "#El MSE se calcula mediante la suma del cuadrado del error de predicción,\n",
    "#que es la salida real menos la salida prevista y luego se divide por el número de puntos de datos. "
   ]
  },
  {
   "cell_type": "code",
   "execution_count": null,
   "id": "1e0d0c9e",
   "metadata": {},
   "outputs": [],
   "source": []
  },
  {
   "cell_type": "code",
   "execution_count": 48,
   "id": "0631566e",
   "metadata": {},
   "outputs": [],
   "source": [
    "# Comparar"
   ]
  },
  {
   "cell_type": "code",
   "execution_count": 58,
   "id": "07ac953d",
   "metadata": {},
   "outputs": [
    {
     "data": {
      "image/png": "[encoded data removed]",
      "text/plain": [
       "<Figure size 600x384 with 1 Axes>"
      ]
     },
     "metadata": {},
     "output_type": "display_data"
    }
   ],
   "source": [
    "# Gràfic\n",
    "\n",
    "fig, ax = plt.subplots(figsize=(6, 3.84))\n",
    "\n",
    "huston.plot(\n",
    "    x    = 'MEDV',\n",
    "    y    = 'CRIM',\n",
    "    c    = 'firebrick',\n",
    "    kind = \"scatter\",\n",
    "    ax   = ax\n",
    ")\n",
    "ax.set_title('Distribución de Medv  y Crim');"
   ]
  },
  {
   "cell_type": "code",
   "execution_count": null,
   "id": "55f02421",
   "metadata": {},
   "outputs": [],
   "source": []
  },
  {
   "cell_type": "code",
   "execution_count": 59,
   "id": "ba6af5f0",
   "metadata": {},
   "outputs": [
    {
     "name": "stdout",
     "output_type": "stream",
     "text": [
      "Coeficient de correlació de Pearson:  -0.3883046085868114\n",
      "P-value:  1.1739870821941874e-19\n"
     ]
    }
   ],
   "source": [
    "# Correlació lineal entre les dos variables\n",
    "\n",
    "corr_test = pearsonr(x = huston['MEDV'], y =  huston['CRIM'])\n",
    "print(\"Coeficient de correlació de Pearson: \", corr_test[0])\n",
    "print(\"P-value: \", corr_test[1])"
   ]
  },
  {
   "cell_type": "code",
   "execution_count": 234,
   "id": "d2219257",
   "metadata": {},
   "outputs": [],
   "source": [
    "#El gráfic i el coef correlació tenen una relació lineal,\n",
    "#significativa (r =-0.3883046085868114) i (p-value = 1.1739870821941874e-19) = 0,00000000000000000017 per tant p<0.05\n",
    "# i per tant té sentit intentar generar un model de regresió lineal\n",
    "#per  predir  si el preu de les vivendes te relació amb la criminalitat de Houston.\n",
    "\n",
    "\n"
   ]
  },
  {
   "cell_type": "code",
   "execution_count": 60,
   "id": "ce11a0ed",
   "metadata": {},
   "outputs": [
    {
     "data": {
      "text/plain": [
       "LinearRegression()"
      ]
     },
     "execution_count": 60,
     "metadata": {},
     "output_type": "execute_result"
    }
   ],
   "source": [
    "#  train y test  divideixo les dades\n",
    "\n",
    "X = huston[['MEDV']]\n",
    "y = huston['CRIM']\n",
    "\n",
    "X_train, X_test, y_train, y_test = train_test_split(\n",
    "                                        X.values.reshape(-1,1),\n",
    "                                        y.values.reshape(-1,1),\n",
    "                                        train_size   = 0.8,\n",
    "                                       \n",
    "                                    )\n",
    "\n",
    "\n",
    "\n",
    "modelo = LinearRegression()   #creo model\n",
    "modelo.fit(X = X_train.reshape(-1, 1), y = y_train)"
   ]
  },
  {
   "cell_type": "code",
   "execution_count": null,
   "id": "c26ece6d",
   "metadata": {},
   "outputs": [],
   "source": []
  },
  {
   "cell_type": "code",
   "execution_count": 51,
   "id": "b99f7e11",
   "metadata": {},
   "outputs": [
    {
     "name": "stdout",
     "output_type": "stream",
     "text": [
      "Intercept: [12.06307916]\n",
      "Coeficiente: [('MEDV', -0.3791511466943768)]\n",
      "Coeficiente de determinación R^2: 0.1503689989568504\n"
     ]
    }
   ],
   "source": [
    "# printo la informació extreta del model \n",
    "\n",
    "print(\"Intercept:\", modelo.intercept_)  #ordenada punt on intercepta am la linia\n",
    "\n",
    "\n",
    "print(\"Coeficiente:\", list(zip(X.columns, modelo.coef_.flatten(), )))   #coef de correlació\n",
    "print(\"Coeficiente de determinación R^2:\", modelo.score(X, y))          #R^2\n",
    "\n",
    "\n",
    "\n",
    "#3 R2 medeix quan bé , un model de regresió s'ajusta a les dades reals.\n",
    "# es  una mesura de la precisió general del model.\n",
    "# R al quadrat es coneix com el coeficient de determinació.\n",
    "\n",
    "##coef de correlació= Ens diu la intensidat de la relació lineal entre dos variables en un análisis de correlació."
   ]
  },
  {
   "cell_type": "code",
   "execution_count": 29,
   "id": "1715dd30",
   "metadata": {},
   "outputs": [],
   "source": [
    "\n",
    "# evaluo la capacitat predictiva amb el grup de dades test"
   ]
  },
  {
   "cell_type": "code",
   "execution_count": 61,
   "id": "e0bcf0da",
   "metadata": {},
   "outputs": [
    {
     "name": "stdout",
     "output_type": "stream",
     "text": [
      "[[9.40902113]\n",
      " [6.29998173]\n",
      " [3.94924462]]\n",
      "\n",
      "El error (rmse) de test es: 6.349368965544373\n"
     ]
    }
   ],
   "source": [
    "# Error de test del model \n",
    "\n",
    "prediccions = modelo.predict(X = X_test)\n",
    "print(prediccions[0:3,])\n",
    "\n",
    "rmse = mean_squared_error(\n",
    "        y_true  = y_test,\n",
    "        y_pred  = prediccions,\n",
    "        squared = False\n",
    "       )\n",
    "print(\"\")\n",
    "print(f\"El error (rmse) de test es: {rmse}\")\n",
    "\n",
    "\n",
    "# RMSE ( root mean square error )ens dona la diferencia entre los resultados reals iels resultats calculados del nostre model"
   ]
  },
  {
   "cell_type": "code",
   "execution_count": 31,
   "id": "15fba8ad",
   "metadata": {},
   "outputs": [],
   "source": [
    "# Divisió de dades en train y test\n",
    "\n",
    "X = huston[['MEDV']]\n",
    "y = huston['CRIM']\n",
    "\n",
    "X_train, X_test, y_train, y_test = train_test_split(\n",
    "                                        X.values.reshape(-1,1),\n",
    "                                        y.values.reshape(-1,1),\n",
    "                                        train_size   = 0.8,\n",
    "                                       \n",
    "                                    )"
   ]
  },
  {
   "cell_type": "code",
   "execution_count": 63,
   "id": "5f5dc54e",
   "metadata": {},
   "outputs": [
    {
     "name": "stdout",
     "output_type": "stream",
     "text": [
      "                            OLS Regression Results                            \n",
      "==============================================================================\n",
      "Dep. Variable:                      y   R-squared:                       0.146\n",
      "Model:                            OLS   Adj. R-squared:                  0.144\n",
      "Method:                 Least Squares   F-statistic:                     68.98\n",
      "Date:                Sun, 12 Feb 2023   Prob (F-statistic):           1.54e-15\n",
      "Time:                        11:56:12   Log-Likelihood:                -1426.8\n",
      "No. Observations:                 404   AIC:                             2858.\n",
      "Df Residuals:                     402   BIC:                             2866.\n",
      "Df Model:                           1                                         \n",
      "Covariance Type:            nonrobust                                         \n",
      "==============================================================================\n",
      "                 coef    std err          t      P>|t|      [0.025      0.975]\n",
      "------------------------------------------------------------------------------\n",
      "const         12.0631      1.099     10.980      0.000       9.903      14.223\n",
      "x1            -0.3792      0.046     -8.305      0.000      -0.469      -0.289\n",
      "==============================================================================\n",
      "Omnibus:                      465.664   Durbin-Watson:                   2.101\n",
      "Prob(Omnibus):                  0.000   Jarque-Bera (JB):            27336.529\n",
      "Skew:                           5.314   Prob(JB):                         0.00\n",
      "Kurtosis:                      41.871   Cond. No.                         64.2\n",
      "==============================================================================\n",
      "\n",
      "Notes:\n",
      "[1] Standard Errors assume that the covariance matrix of the errors is correctly specified.\n"
     ]
    }
   ],
   "source": [
    "\n",
    " #Creación del modelo utilizando matrices como en scikitlearn\n",
    "# ==============================================================================\n",
    "# A la matriz de predictores se le tiene que añadir una columna de 1s para el intercept del modelo\n",
    "X_train = sm.add_constant(X_train, prepend=True)\n",
    "modelo = sm.OLS(endog=y_train, exog=X_train,)\n",
    "modelo = modelo.fit()\n",
    "print(modelo.summary())"
   ]
  },
  {
   "cell_type": "code",
   "execution_count": 64,
   "id": "ee3abac9",
   "metadata": {},
   "outputs": [],
   "source": [
    "# Intervals de confianÇa per els coeficients del model\n",
    "\n",
    "modelo.conf_int (alpha=0.05); #agafem 0.05 valor de referencia  el fem servir  per hipotesi nula o acceptar alternativa\n",
    "#modelo.conf_int(alpha=0.05\n"
   ]
  },
  {
   "cell_type": "code",
   "execution_count": 35,
   "id": "6cbfed41",
   "metadata": {},
   "outputs": [
    {
     "data": {
      "text/html": [
       "<div>\n",
       "<style scoped>\n",
       "    .dataframe tbody tr th:only-of-type {\n",
       "        vertical-align: middle;\n",
       "    }\n",
       "\n",
       "    .dataframe tbody tr th {\n",
       "        vertical-align: top;\n",
       "    }\n",
       "\n",
       "    .dataframe thead th {\n",
       "        text-align: right;\n",
       "    }\n",
       "</style>\n",
       "<table border=\"1\" class=\"dataframe\">\n",
       "  <thead>\n",
       "    <tr style=\"text-align: right;\">\n",
       "      <th></th>\n",
       "      <th>mean</th>\n",
       "      <th>mean_se</th>\n",
       "      <th>mean_ci_lower</th>\n",
       "      <th>mean_ci_upper</th>\n",
       "      <th>obs_ci_lower</th>\n",
       "      <th>obs_ci_upper</th>\n",
       "    </tr>\n",
       "  </thead>\n",
       "  <tbody>\n",
       "    <tr>\n",
       "      <th>0</th>\n",
       "      <td>6.563675</td>\n",
       "      <td>0.566719</td>\n",
       "      <td>5.449572</td>\n",
       "      <td>7.677778</td>\n",
       "      <td>-9.136618</td>\n",
       "      <td>22.263968</td>\n",
       "    </tr>\n",
       "    <tr>\n",
       "      <th>1</th>\n",
       "      <td>6.293323</td>\n",
       "      <td>0.542249</td>\n",
       "      <td>5.227324</td>\n",
       "      <td>7.359321</td>\n",
       "      <td>-9.403631</td>\n",
       "      <td>21.990276</td>\n",
       "    </tr>\n",
       "    <tr>\n",
       "      <th>2</th>\n",
       "      <td>6.394705</td>\n",
       "      <td>0.551292</td>\n",
       "      <td>5.310929</td>\n",
       "      <td>7.478480</td>\n",
       "      <td>-9.303466</td>\n",
       "      <td>22.092875</td>\n",
       "    </tr>\n",
       "    <tr>\n",
       "      <th>3</th>\n",
       "      <td>4.367062</td>\n",
       "      <td>0.414290</td>\n",
       "      <td>3.552616</td>\n",
       "      <td>5.181508</td>\n",
       "      <td>-11.314817</td>\n",
       "      <td>20.048940</td>\n",
       "    </tr>\n",
       "  </tbody>\n",
       "</table>\n",
       "</div>"
      ],
      "text/plain": [
       "       mean   mean_se  mean_ci_lower  mean_ci_upper  obs_ci_lower  \\\n",
       "0  6.563675  0.566719       5.449572       7.677778     -9.136618   \n",
       "1  6.293323  0.542249       5.227324       7.359321     -9.403631   \n",
       "2  6.394705  0.551292       5.310929       7.478480     -9.303466   \n",
       "3  4.367062  0.414290       3.552616       5.181508    -11.314817   \n",
       "\n",
       "   obs_ci_upper  \n",
       "0     22.263968  \n",
       "1     21.990276  \n",
       "2     22.092875  \n",
       "3     20.048940  "
      ]
     },
     "execution_count": 35,
     "metadata": {},
     "output_type": "execute_result"
    }
   ],
   "source": [
    "# Prediccions amb interval de confiança del 95%\n",
    "\n",
    "prediccions = modelo.get_prediction(exog = X_train).summary_frame(alpha=0.05)\n",
    "prediccions.head(4)"
   ]
  },
  {
   "cell_type": "code",
   "execution_count": 65,
   "id": "b5b34266",
   "metadata": {},
   "outputs": [
    {
     "data": {
      "image/png": "[encoded data removed]",
      "text/plain": [
       "<Figure size 900x384 with 1 Axes>"
      ]
     },
     "metadata": {},
     "output_type": "display_data"
    }
   ],
   "source": [
    "# Prediccions amb un interval de confianÇa del 95%  #train\n",
    "\n",
    "prediccions = modelo.get_prediction(exog = X_train).summary_frame(alpha=0.05)\n",
    "prediccions['x'] = X_train[:, 1]\n",
    "prediccions['y'] = y_train\n",
    "prediccions = prediccions.sort_values('x')\n",
    "\n",
    "\n",
    "                       # Gràfic\n",
    "\n",
    "fig, ax = plt.subplots(figsize=(9,3.84 ))\n",
    "\n",
    "ax.scatter(prediccions['x'], prediccions['y'], marker='o', color = \"violet\")\n",
    "ax.plot(prediccions['x'], prediccions[\"mean\"], linestyle='-', label=\"OLS\")\n",
    "ax.plot(prediccions['x'], prediccions[\"mean_ci_lower\"], linestyle='--', color='blue', label=\"95% CI\")\n",
    "ax.plot(prediccions['x'], prediccions[\"mean_ci_upper\"], linestyle='--', color='green')\n",
    "ax.fill_between(prediccions['x'], prediccions[\"mean_ci_lower\"], prediccions[\"mean_ci_upper\"], alpha=0.1)\n",
    "ax.legend();"
   ]
  },
  {
   "cell_type": "code",
   "execution_count": 66,
   "id": "84e57fa4",
   "metadata": {},
   "outputs": [
    {
     "name": "stdout",
     "output_type": "stream",
     "text": [
      "\n",
      "El error (rmse) de test es  el valor : 6.349368965544371\n"
     ]
    }
   ],
   "source": [
    "# Error de test del model  #test\n",
    "\n",
    "X_test = sm.add_constant(X_test, prepend=True)\n",
    "prediccions = modelo.predict(exog = X_test)\n",
    "rmse = mean_squared_error(\n",
    "        y_true  = y_test,\n",
    "        y_pred  = prediccions,\n",
    "        squared = False\n",
    "       )\n",
    "print(\"\")\n",
    "print(f\"El error (rmse) de test es  el valor : {rmse}\")\n",
    "\n",
    " \n",
    "# les prediccions  s´allunyen el valor real (rmse)"
   ]
  },
  {
   "cell_type": "code",
   "execution_count": null,
   "id": "657c4607",
   "metadata": {},
   "outputs": [],
   "source": []
  },
  {
   "cell_type": "code",
   "execution_count": null,
   "id": "e628a15f",
   "metadata": {},
   "outputs": [],
   "source": []
  },
  {
   "cell_type": "code",
   "execution_count": null,
   "id": "65d3cd95",
   "metadata": {},
   "outputs": [],
   "source": []
  },
  {
   "cell_type": "code",
   "execution_count": null,
   "id": "dcd9b4a5",
   "metadata": {},
   "outputs": [],
   "source": []
  }
 ],
 "metadata": {
  "kernelspec": {
   "display_name": "Python 3 (ipykernel)",
   "language": "python",
   "name": "python3"
  },
  "language_info": {
   "codemirror_mode": {
    "name": "ipython",
    "version": 3
   },
   "file_extension": ".py",
   "mimetype": "text/x-python",
   "name": "python",
   "nbconvert_exporter": "python",
   "pygments_lexer": "ipython3",
   "version": "3.9.13"
  }
 },
 "nbformat": 4,
 "nbformat_minor": 5
}
